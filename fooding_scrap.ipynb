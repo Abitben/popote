{
 "cells": [
  {
   "cell_type": "code",
   "execution_count": 2,
   "metadata": {},
   "outputs": [
    {
     "name": "stdout",
     "output_type": "stream",
     "text": [
      "Requirement already satisfied: pip in /Users/benjamindupaquier/.pyenv/versions/3.10.6/lib/python3.10/site-packages (22.2.1)\n",
      "Collecting pip\n",
      "  Using cached pip-24.3.1-py3-none-any.whl (1.8 MB)\n",
      "Installing collected packages: pip\n",
      "  Attempting uninstall: pip\n",
      "    Found existing installation: pip 22.2.1\n",
      "    Uninstalling pip-22.2.1:\n",
      "      Successfully uninstalled pip-22.2.1\n",
      "Successfully installed pip-24.3.1\n"
     ]
    }
   ],
   "source": [
    "!pip install --upgrade pip"
   ]
  },
  {
   "cell_type": "code",
   "execution_count": 3,
   "metadata": {},
   "outputs": [
    {
     "name": "stdout",
     "output_type": "stream",
     "text": [
      "Requirement already satisfied: selenium in /Users/benjamindupaquier/.pyenv/versions/3.10.6/lib/python3.10/site-packages (4.27.1)\n",
      "Requirement already satisfied: urllib3<3,>=1.26 in /Users/benjamindupaquier/.pyenv/versions/3.10.6/lib/python3.10/site-packages (from urllib3[socks]<3,>=1.26->selenium) (2.2.3)\n",
      "Requirement already satisfied: trio~=0.17 in /Users/benjamindupaquier/.pyenv/versions/3.10.6/lib/python3.10/site-packages (from selenium) (0.27.0)\n",
      "Requirement already satisfied: trio-websocket~=0.9 in /Users/benjamindupaquier/.pyenv/versions/3.10.6/lib/python3.10/site-packages (from selenium) (0.11.1)\n",
      "Requirement already satisfied: certifi>=2021.10.8 in /Users/benjamindupaquier/.pyenv/versions/3.10.6/lib/python3.10/site-packages (from selenium) (2024.12.14)\n",
      "Requirement already satisfied: typing_extensions~=4.9 in /Users/benjamindupaquier/.pyenv/versions/3.10.6/lib/python3.10/site-packages (from selenium) (4.12.2)\n",
      "Requirement already satisfied: websocket-client~=1.8 in /Users/benjamindupaquier/.pyenv/versions/3.10.6/lib/python3.10/site-packages (from selenium) (1.8.0)\n",
      "Requirement already satisfied: attrs>=23.2.0 in /Users/benjamindupaquier/.pyenv/versions/3.10.6/lib/python3.10/site-packages (from trio~=0.17->selenium) (24.3.0)\n",
      "Requirement already satisfied: sortedcontainers in /Users/benjamindupaquier/.pyenv/versions/3.10.6/lib/python3.10/site-packages (from trio~=0.17->selenium) (2.4.0)\n",
      "Requirement already satisfied: idna in /Users/benjamindupaquier/.pyenv/versions/3.10.6/lib/python3.10/site-packages (from trio~=0.17->selenium) (3.10)\n",
      "Requirement already satisfied: outcome in /Users/benjamindupaquier/.pyenv/versions/3.10.6/lib/python3.10/site-packages (from trio~=0.17->selenium) (1.3.0.post0)\n",
      "Requirement already satisfied: sniffio>=1.3.0 in /Users/benjamindupaquier/.pyenv/versions/3.10.6/lib/python3.10/site-packages (from trio~=0.17->selenium) (1.3.1)\n",
      "Requirement already satisfied: exceptiongroup in /Users/benjamindupaquier/.pyenv/versions/3.10.6/lib/python3.10/site-packages (from trio~=0.17->selenium) (1.2.2)\n",
      "Requirement already satisfied: wsproto>=0.14 in /Users/benjamindupaquier/.pyenv/versions/3.10.6/lib/python3.10/site-packages (from trio-websocket~=0.9->selenium) (1.2.0)\n",
      "Requirement already satisfied: pysocks!=1.5.7,<2.0,>=1.5.6 in /Users/benjamindupaquier/.pyenv/versions/3.10.6/lib/python3.10/site-packages (from urllib3[socks]<3,>=1.26->selenium) (1.7.1)\n",
      "Requirement already satisfied: h11<1,>=0.9.0 in /Users/benjamindupaquier/.pyenv/versions/3.10.6/lib/python3.10/site-packages (from wsproto>=0.14->trio-websocket~=0.9->selenium) (0.14.0)\n"
     ]
    }
   ],
   "source": [
    "!pip install selenium"
   ]
  },
  {
   "cell_type": "code",
   "execution_count": null,
   "metadata": {},
   "outputs": [
    {
     "name": "stdout",
     "output_type": "stream",
     "text": [
      "https://lefooding.com/recherche/restaurant/place/paris-10-14710\n",
      "['https://lefooding.com/restaurants/restaurant-candide-paris']\n",
      "['https://lefooding.com/restaurants/restaurant-holybelly-5-paris']\n",
      "['https://lefooding.com/restaurants/bake']\n",
      "['https://lefooding.com/restaurants/dumbo-petites-ecuries-meilleur-smash-burger-paris']\n",
      "['https://lefooding.com/restaurants/restaurant-saam-paris-2']\n",
      "['https://lefooding.com/restaurants/restaurant-urfa-durum-paris-3']\n",
      "['https://lefooding.com/restaurants/restaurant-gros-bao-paris']\n",
      "['https://lefooding.com/restaurants/restaurant-billili-paris']\n",
      "['https://lefooding.com/restaurants/restaurant-brigade-du-tigre-paris']\n",
      "['https://lefooding.com/restaurants/restaurant-ake-table-vin-paris-3']\n",
      "['https://lefooding.com/restaurants/restaurant-le-verre-vole-paris-14']\n",
      "['https://lefooding.com/restaurants/restaurant-les-arlots-paris-3']\n",
      "https://lefooding.com/recherche/restaurant/place/paris-10-14710?page=2\n",
      "['https://lefooding.com/restaurants/restaurant-la-cave-a-michel-paris-3']\n",
      "['https://lefooding.com/restaurants/restaurant-vivant-2-paris']\n",
      "['https://lefooding.com/restaurants/restaurant-ozlem-paris']\n",
      "['https://lefooding.com/restaurants/restaurant-panda-panda-paris']\n",
      "['https://lefooding.com/restaurants/des-assiettes-jijiigantesques']\n",
      "['https://lefooding.com/restaurants/restaurant-chez-michel-paris-14']\n",
      "['https://lefooding.com/restaurants/chez-marius']\n",
      "['https://lefooding.com/restaurants/restaurant-daily-syrien-veggie-paris']\n",
      "['https://lefooding.com/restaurants/chocho-2']\n",
      "['https://lefooding.com/restaurants/restaurant-cafe-les-deux-gares-paris']\n",
      "['https://lefooding.com/restaurants/round']\n",
      "['https://lefooding.com/restaurants/mache']\n",
      "https://lefooding.com/recherche/restaurant/place/paris-10-14710?page=3\n",
      "['https://lefooding.com/restaurants/restaurant-tanguy-paris']\n",
      "['https://lefooding.com/restaurants/restaurant-sur-mer-paris']\n",
      "['https://lefooding.com/restaurants/restaurant-urfa-durum-2-paris']\n",
      "['https://lefooding.com/restaurants/restaurant-plan-d-paris']\n",
      "['https://lefooding.com/restaurants/sapid']\n",
      "['https://lefooding.com/restaurants/restaurant-early-june-paris']\n",
      "['https://lefooding.com/restaurants/restaurant-le-petit-cambodge-paris-11']\n",
      "['https://lefooding.com/restaurants/restaurant-eels-paris']\n",
      "[['https://lefooding.com/restaurants/restaurant-candide-paris'], ['https://lefooding.com/restaurants/restaurant-holybelly-5-paris'], ['https://lefooding.com/restaurants/bake'], ['https://lefooding.com/restaurants/dumbo-petites-ecuries-meilleur-smash-burger-paris'], ['https://lefooding.com/restaurants/restaurant-saam-paris-2'], ['https://lefooding.com/restaurants/restaurant-urfa-durum-paris-3'], ['https://lefooding.com/restaurants/restaurant-gros-bao-paris'], ['https://lefooding.com/restaurants/restaurant-billili-paris'], ['https://lefooding.com/restaurants/restaurant-brigade-du-tigre-paris'], ['https://lefooding.com/restaurants/restaurant-ake-table-vin-paris-3'], ['https://lefooding.com/restaurants/restaurant-le-verre-vole-paris-14'], ['https://lefooding.com/restaurants/restaurant-les-arlots-paris-3'], ['https://lefooding.com/restaurants/restaurant-la-cave-a-michel-paris-3'], ['https://lefooding.com/restaurants/restaurant-vivant-2-paris'], ['https://lefooding.com/restaurants/restaurant-ozlem-paris'], ['https://lefooding.com/restaurants/restaurant-panda-panda-paris'], ['https://lefooding.com/restaurants/des-assiettes-jijiigantesques'], ['https://lefooding.com/restaurants/restaurant-chez-michel-paris-14'], ['https://lefooding.com/restaurants/chez-marius'], ['https://lefooding.com/restaurants/restaurant-daily-syrien-veggie-paris'], ['https://lefooding.com/restaurants/chocho-2'], ['https://lefooding.com/restaurants/restaurant-cafe-les-deux-gares-paris'], ['https://lefooding.com/restaurants/round'], ['https://lefooding.com/restaurants/mache'], ['https://lefooding.com/restaurants/restaurant-tanguy-paris'], ['https://lefooding.com/restaurants/restaurant-sur-mer-paris'], ['https://lefooding.com/restaurants/restaurant-urfa-durum-2-paris'], ['https://lefooding.com/restaurants/restaurant-plan-d-paris'], ['https://lefooding.com/restaurants/sapid'], ['https://lefooding.com/restaurants/restaurant-early-june-paris'], ['https://lefooding.com/restaurants/restaurant-le-petit-cambodge-paris-11'], ['https://lefooding.com/restaurants/restaurant-eels-paris']]\n"
     ]
    }
   ],
   "source": [
    "from selenium import webdriver\n",
    "from selenium.webdriver.common.by import By\n",
    "from selenium.webdriver.support.ui import WebDriverWait\n",
    "from selenium.webdriver.support import expected_conditions as EC\n",
    "import time\n",
    "\n",
    "driver = webdriver.Firefox()  # or webdriver.Firefox()\n",
    "driver.get(\"https://lefooding.com/restaurants\")\n",
    "WebDriverWait(driver, 10).until(\n",
    "    EC.presence_of_element_located((By.ID, \"didomi-notice-disagree-button\"))\n",
    ")\n",
    "refuse_button = driver.find_element(By.ID, \"didomi-notice-disagree-button\")\n",
    "refuse_button.click()\n",
    "search_box = driver.find_element(By.XPATH, \"/html/body/div/div/div/main/div/div[2]/div/div[2]/div[2]/div[1]/form/label/input\")\n",
    "search_query = \"paris 10\"\n",
    "search_box.send_keys(search_query)\n",
    "WebDriverWait(driver, 10).until(\n",
    "    EC.presence_of_element_located(((By.XPATH, '//*[@aria-label=\"autocompleteResult 0\"]')))\n",
    ")\n",
    "auto_complete_0 = driver.find_element(By.XPATH, '//*[@aria-label=\"autocompleteResult 0\"]')\n",
    "auto_complete_0.click()\n",
    "time.sleep(5)\n",
    "WebDriverWait(driver, 10).until(\n",
    "    EC.presence_of_element_located(((By.XPATH, '//*[@aria-label=\"nextPage\"]')))\n",
    ")\n",
    "condition = True\n",
    "all_links = []\n",
    "while condition:\n",
    "    try:\n",
    "        print(driver.current_url)\n",
    "        time.sleep(5)\n",
    "        restaurant_cards = driver.find_elements(By.CSS_SELECTOR, \"a.o-card__container\")\n",
    "        for link in restaurant_cards:\n",
    "            list_href = []\n",
    "            href_link = link.get_attribute(\"href\")\n",
    "            list_href.append(href_link)\n",
    "            print(list_href)\n",
    "            all_links.append(list_href)\n",
    "        driver.find_element(By.XPATH, '//*[@aria-label=\"nextPage\"]')    \n",
    "        next_page = driver.find_element(By.XPATH, '//*[@aria-label=\"nextPage\"]')\n",
    "        next_page.click()\n",
    "    except:\n",
    "        condition = False\n",
    "\n",
    "print(all_links)\n",
    "driver.quit()"
   ]
  },
  {
   "cell_type": "code",
   "execution_count": 58,
   "metadata": {},
   "outputs": [
    {
     "name": "stdout",
     "output_type": "stream",
     "text": [
      "32\n"
     ]
    }
   ],
   "source": [
    "print(len(all_links))"
   ]
  },
  {
   "cell_type": "code",
   "execution_count": 61,
   "metadata": {},
   "outputs": [
    {
     "data": {
      "text/plain": [
       "0    32\n",
       "dtype: int64"
      ]
     },
     "execution_count": 61,
     "metadata": {},
     "output_type": "execute_result"
    }
   ],
   "source": [
    "import pandas as pd\n",
    "\n",
    "df = pd.DataFrame(all_links)\n",
    "df.count()"
   ]
  },
  {
   "cell_type": "code",
   "execution_count": 23,
   "metadata": {},
   "outputs": [],
   "source": [
    "def first_page(input):\n",
    "    from selenium import webdriver\n",
    "    from selenium.webdriver.common.by import By\n",
    "    from selenium.webdriver.support.ui import WebDriverWait\n",
    "    from selenium.webdriver.support import expected_conditions as EC\n",
    "    import time\n",
    "\n",
    "    driver = webdriver.Firefox()  # or webdriver.Firefox()\n",
    "    driver.get(\"https://lefooding.com/restaurants\")\n",
    "    WebDriverWait(driver, 10).until(\n",
    "        EC.presence_of_element_located((By.ID, \"didomi-notice-disagree-button\"))\n",
    "    )\n",
    "    refuse_button = driver.find_element(By.ID, \"didomi-notice-disagree-button\")\n",
    "    refuse_button.click()\n",
    "    search_box = driver.find_element(By.XPATH, \"/html/body/div/div/div/main/div/div[2]/div/div[2]/div[2]/div[1]/form/label/input\")\n",
    "    search_query = input\n",
    "    search_box.send_keys(search_query)\n",
    "    WebDriverWait(driver, 10).until(\n",
    "        EC.presence_of_element_located(((By.XPATH, '//*[@aria-label=\"autocompleteResult 0\"]')))\n",
    "    )\n",
    "    auto_complete_0 = driver.find_element(By.XPATH, '//*[@aria-label=\"autocompleteResult 0\"]')\n",
    "    auto_complete_0.click()\n",
    "    time.sleep(5)\n",
    "    \n",
    "    \n",
    "query = \"paris 10\"    \n",
    "first_page(query)"
   ]
  }
 ],
 "metadata": {
  "kernelspec": {
   "display_name": "Python 3",
   "language": "python",
   "name": "python3"
  },
  "language_info": {
   "codemirror_mode": {
    "name": "ipython",
    "version": 3
   },
   "file_extension": ".py",
   "mimetype": "text/x-python",
   "name": "python",
   "nbconvert_exporter": "python",
   "pygments_lexer": "ipython3",
   "version": "3.10.6"
  }
 },
 "nbformat": 4,
 "nbformat_minor": 2
}
